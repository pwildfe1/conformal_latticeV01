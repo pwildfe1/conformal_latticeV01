{
 "cells": [
  {
   "cell_type": "code",
   "execution_count": 25,
   "metadata": {},
   "outputs": [
    {
     "name": "stdout",
     "output_type": "stream",
     "text": [
      "uploading file size: 0.516 MB\n",
      "[==================================================]100%\n",
      "successfully uploaded test_boxes.obj as flat.obj\n",
      "https://studiobitonti.appspot.com/apps/visualize?name=flat.obj&t=Space0ut!\n"
     ]
    },
    {
     "data": {
      "text/html": [
       "\n",
       "        <iframe\n",
       "            width=\"800\"\n",
       "            height=\"600\"\n",
       "            src=\"https://studiobitonti.appspot.com/apps/visualize?name=flat.obj&t=Space0ut!\"\n",
       "            frameborder=\"0\"\n",
       "            allowfullscreen\n",
       "        ></iframe>\n",
       "        "
      ],
      "text/plain": [
       "<IPython.lib.display.IFrame at 0x18fbc8092c8>"
      ]
     },
     "metadata": {},
     "output_type": "display_data"
    },
    {
     "data": {
      "text/plain": [
       "'https://studiobitonti.appspot.com/apps/visualize?name=flat.obj&t=Space0ut!'"
      ]
     },
     "execution_count": 25,
     "metadata": {},
     "output_type": "execute_result"
    }
   ],
   "source": [
    "import genysis\n",
    "import os\n",
    "\n",
    "token = 'Space0ut!'\n",
    "\n",
    "genysis.upload('test_boxes.obj','flat.obj',token)\n",
    "\n",
    "genysis.visualize(['flat.obj'],token,True)"
   ]
  },
  {
   "cell_type": "code",
   "execution_count": null,
   "metadata": {},
   "outputs": [],
   "source": []
  }
 ],
 "metadata": {
  "kernelspec": {
   "display_name": "Python 3",
   "language": "python",
   "name": "python3"
  },
  "language_info": {
   "codemirror_mode": {
    "name": "ipython",
    "version": 3
   },
   "file_extension": ".py",
   "mimetype": "text/x-python",
   "name": "python",
   "nbconvert_exporter": "python",
   "pygments_lexer": "ipython3",
   "version": "3.7.7"
  }
 },
 "nbformat": 4,
 "nbformat_minor": 4
}
